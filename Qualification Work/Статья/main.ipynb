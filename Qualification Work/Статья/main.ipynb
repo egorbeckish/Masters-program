{
 "cells": [
  {
   "cell_type": "code",
   "execution_count": null,
   "id": "76d82fdc",
   "metadata": {},
   "outputs": [
    {
     "data": {
      "application/vnd.jupyter.widget-view+json": {
       "model_id": "3df8b7a098834801b3eb9374c2b629df",
       "version_major": 2,
       "version_minor": 0
      },
      "text/plain": [
       "IntSlider(value=0, description='Image', max=435)"
      ]
     },
     "metadata": {},
     "output_type": "display_data"
    },
    {
     "data": {
      "application/vnd.jupyter.widget-view+json": {
       "model_id": "2226f25d295e4dcbbf779f41849470df",
       "version_major": 2,
       "version_minor": 0
      },
      "text/plain": [
       "Output()"
      ]
     },
     "metadata": {},
     "output_type": "display_data"
    }
   ],
   "source": [
    "import pydicom\n",
    "import matplotlib.pyplot as plt\n",
    "import os\n",
    "import ipywidgets as widgets\n",
    "from IPython.display import display, clear_output\n",
    "\n",
    "class DicomViewerWithIpywidgets:\n",
    "    def __init__(self, folder_path):\n",
    "        self.folder_path = folder_path\n",
    "        self.dicom_files = self.get_dicom_files()\n",
    "        self.current_index = 0\n",
    "\n",
    "        self.slider = widgets.IntSlider(value=0, min=0, max=len(self.dicom_files) - 1, step=1, description=\"Image\")\n",
    "        self.slider.observe(self.on_slider_change, names='value')\n",
    "\n",
    "        self.output = widgets.Output()\n",
    "\n",
    "        display(self.slider, self.output)\n",
    "        self.display_image()\n",
    "\n",
    "    def get_dicom_files(self):\n",
    "        dicom_files = []\n",
    "        for root, dirs, files in os.walk(self.folder_path):\n",
    "            for file in files:\n",
    "                file_path = os.path.join(root, file)\n",
    "                if self.is_dicom_file(file_path):\n",
    "                    dicom_files.append(file_path)\n",
    "        dicom_files.sort(key=lambda x: os.path.basename(x))\n",
    "        return dicom_files\n",
    "\n",
    "    def is_dicom_file(self, file_path):\n",
    "        try:\n",
    "            pydicom.dcmread(file_path)\n",
    "            return True\n",
    "        except:\n",
    "            return False\n",
    "\n",
    "    def display_image(self):\n",
    "        with self.output:\n",
    "            clear_output(wait=True)  # Очистка предыдущего вывода\n",
    "            dicom_file_path = self.dicom_files[self.current_index]\n",
    "            dicom = pydicom.dcmread(dicom_file_path)\n",
    "            pixel_array = dicom.pixel_array\n",
    "            \n",
    "            plt.imshow(pixel_array, cmap=plt.cm.gray)\n",
    "            plt.axis('off')\n",
    "            plt.title(f\"File: {os.path.basename(dicom_file_path)} ({self.current_index + 1}/{len(self.dicom_files)})\")\n",
    "            plt.show()\n",
    "\n",
    "    def on_slider_change(self, change):\n",
    "        self.current_index = change['new']\n",
    "        self.display_image()\n",
    "\n",
    "def display_dicom_viewer_with_slider(folder_path):\n",
    "    viewer = DicomViewerWithIpywidgets(folder_path)\n",
    "\n",
    "folder_path = \"DICOM\"  \n",
    "display_dicom_viewer_with_slider(folder_path)"
   ]
  }
 ],
 "metadata": {
  "kernelspec": {
   "display_name": "Python 3",
   "language": "python",
   "name": "python3"
  },
  "language_info": {
   "codemirror_mode": {
    "name": "ipython",
    "version": 3
   },
   "file_extension": ".py",
   "mimetype": "text/x-python",
   "name": "python",
   "nbconvert_exporter": "python",
   "pygments_lexer": "ipython3",
   "version": "3.13.2"
  }
 },
 "nbformat": 4,
 "nbformat_minor": 5
}
