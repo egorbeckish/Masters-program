{
 "cells": [
  {
   "cell_type": "code",
   "execution_count": 1,
   "id": "18dd00f9",
   "metadata": {},
   "outputs": [],
   "source": [
    "import numpy as np\n",
    "import matplotlib.pyplot as plt"
   ]
  },
  {
   "cell_type": "code",
   "execution_count": 2,
   "id": "89f80381",
   "metadata": {},
   "outputs": [],
   "source": [
    "def f(x):\n",
    "\treturn x ** 4 + 5 * x ** 3 - x + 1"
   ]
  },
  {
   "cell_type": "code",
   "execution_count": 3,
   "id": "45dcf975",
   "metadata": {},
   "outputs": [
    {
     "name": "stdout",
     "output_type": "stream",
     "text": [
      "Левая граница: -6\n",
      "Правая граница: 0\n",
      "Погрешность: 0.000001\n"
     ]
    }
   ],
   "source": [
    "a = -6\n",
    "b = 0\n",
    "eps = 1e-6\n",
    "delta = eps / 10\n",
    "\n",
    "print(\n",
    "\tf\"Левая граница: {a}\",\n",
    "\tf\"Правая граница: {b}\",\n",
    "\tf\"Погрешность: {eps:.6f}\",\n",
    "\tsep=\"\\n\"\n",
    ")"
   ]
  },
  {
   "cell_type": "code",
   "execution_count": 4,
   "id": "1be1eedb",
   "metadata": {},
   "outputs": [],
   "source": [
    "def dichotomy(a, b, eps, delta):\n",
    "\ta_k = a\n",
    "\tb_k = b\n",
    "\n",
    "\tx_k = (a_k + b_k) / 2\n",
    "\tf_prev = f(x_k)\n",
    "\n",
    "\twhile True:\n",
    "\t\tdelta_k = b_k - a_k\n",
    "\t\tif delta_k <= eps * 2:\n",
    "\t\t\tbreak\n",
    "\t\t\n",
    "\t\tx_k = (a_k + b_k) / 2\n",
    "\t\tx1 = x_k - (delta / 2)\n",
    "\t\tx2 = x_k + (delta / 2)\n",
    "\n",
    "\t\tf1 = f(x1)\n",
    "\t\tf2 = f(x2)\n",
    "\n",
    "\t\tif f1 < f2:\n",
    "\t\t\tb_k = x2\n",
    "\n",
    "\t\telse:\n",
    "\t\t\ta_k = x1\n",
    "\n",
    "\t\tx_k = (a_k + b_k) / 2\n",
    "\t\tf_curr = f(x_k)\n",
    "\n",
    "\t\tif abs(f_curr - f_prev) <= eps:\n",
    "\t\t\tbreak\n",
    "\n",
    "\t\tf_prev = f_curr\n",
    "\t\n",
    "\tx_k = (a_k + b_k) / 2\n",
    "\treturn x_k, f(x_k)"
   ]
  },
  {
   "cell_type": "code",
   "execution_count": 5,
   "id": "5bbf3b09",
   "metadata": {},
   "outputs": [
    {
     "name": "stdout",
     "output_type": "stream",
     "text": [
      "Точка минимума: -3.7318725463958735\n",
      "Значение в т.минимума: -61.176913659616346\n"
     ]
    }
   ],
   "source": [
    "_x, f_x = dichotomy(a, b, eps, delta)\n",
    "\n",
    "print(\n",
    "\tf\"Точка минимума: {_x}\",\n",
    "\tf\"Значение в т.минимума: {f_x}\",\n",
    "\tsep=\"\\n\"\n",
    ")"
   ]
  },
  {
   "cell_type": "code",
   "execution_count": 6,
   "id": "8250e81d",
   "metadata": {},
   "outputs": [],
   "source": [
    "x = np.linspace(-6, 0, 1000)\n",
    "y = f(x)"
   ]
  },
  {
   "cell_type": "code",
   "execution_count": 7,
   "id": "a56716d4",
   "metadata": {},
   "outputs": [
    {
     "data": {
      "image/png": "[encoded data removed]",
      "text/plain": [
       "<Figure size 640x480 with 1 Axes>"
      ]
     },
     "metadata": {},
     "output_type": "display_data"
    }
   ],
   "source": [
    "fig, ax = plt.subplots()\n",
    "ax.plot(x, y)\n",
    "ax.plot(_x, f_x, marker=\"o\", color=\"r\")\n",
    "ax.annotate(\n",
    "\t'local min',\n",
    "\txy=(_x, f_x),\n",
    "\txytext=(-4, 0),\n",
    "\tarrowprops=dict(facecolor=\"black\", shrink=.15)\n",
    ")\n",
    "plt.show()"
   ]
  }
 ],
 "metadata": {
  "kernelspec": {
   "display_name": "Python 3",
   "language": "python",
   "name": "python3"
  },
  "language_info": {
   "codemirror_mode": {
    "name": "ipython",
    "version": 3
   },
   "file_extension": ".py",
   "mimetype": "text/x-python",
   "name": "python",
   "nbconvert_exporter": "python",
   "pygments_lexer": "ipython3",
   "version": "3.13.2"
  }
 },
 "nbformat": 4,
 "nbformat_minor": 5
}
