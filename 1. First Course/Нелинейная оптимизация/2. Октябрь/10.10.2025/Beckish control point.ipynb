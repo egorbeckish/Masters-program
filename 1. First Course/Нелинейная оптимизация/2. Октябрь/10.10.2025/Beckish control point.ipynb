{
 "cells": [
  {
   "cell_type": "code",
   "execution_count": 1,
   "id": "dcf0f677",
   "metadata": {},
   "outputs": [],
   "source": [
    "import numpy as np\n",
    "import matplotlib.pyplot as plt"
   ]
  },
  {
   "cell_type": "markdown",
   "id": "de04e427",
   "metadata": {},
   "source": [
    "## ВАРИАНТ 3"
   ]
  },
  {
   "cell_type": "markdown",
   "id": "6cd4b0b7",
   "metadata": {},
   "source": [
    "# Задание №2"
   ]
  },
  {
   "cell_type": "code",
   "execution_count": 2,
   "id": "9cf361ad",
   "metadata": {},
   "outputs": [
    {
     "data": {
      "text/plain": [
       "array([[ 1, -4, -2],\n",
       "       [ 1,  2,  0],\n",
       "       [ 1,  0,  1],\n",
       "       [ 1,  2,  1]])"
      ]
     },
     "execution_count": 2,
     "metadata": {},
     "output_type": "execute_result"
    }
   ],
   "source": [
    "x = np.array([\n",
    "\t[1, -4, -2],\n",
    "\t[1, 2, 0],\n",
    "\t[1, 0, 1],\n",
    "\t[1, 2, 1],\n",
    "])\n",
    "x"
   ]
  },
  {
   "cell_type": "code",
   "execution_count": 3,
   "id": "d2733152",
   "metadata": {},
   "outputs": [
    {
     "data": {
      "text/plain": [
       "array([[0],\n",
       "       [3],\n",
       "       [6],\n",
       "       [8]])"
      ]
     },
     "execution_count": 3,
     "metadata": {},
     "output_type": "execute_result"
    }
   ],
   "source": [
    "y = np.array([\n",
    "\t[0],\n",
    "\t[3],\n",
    "\t[6],\n",
    "\t[8]\n",
    "])\n",
    "y"
   ]
  },
  {
   "cell_type": "markdown",
   "id": "8ccddf7e",
   "metadata": {},
   "source": [
    "$$f(x) = k_0 + k_1x_1 + k_2x_2\\space-> xk = y\\space-> x^Txk = x^Ty$$"
   ]
  },
  {
   "cell_type": "code",
   "execution_count": 4,
   "id": "8275e83d",
   "metadata": {},
   "outputs": [
    {
     "data": {
      "text/plain": [
       "array([[ 4,  0,  0],\n",
       "       [ 0, 24, 10],\n",
       "       [ 0, 10,  6]])"
      ]
     },
     "execution_count": 4,
     "metadata": {},
     "output_type": "execute_result"
    }
   ],
   "source": [
    "xTx = x.T @ x\n",
    "xTx"
   ]
  },
  {
   "cell_type": "code",
   "execution_count": 5,
   "id": "93143d4c",
   "metadata": {},
   "outputs": [
    {
     "data": {
      "text/plain": [
       "array([[17],\n",
       "       [22],\n",
       "       [14]])"
      ]
     },
     "execution_count": 5,
     "metadata": {},
     "output_type": "execute_result"
    }
   ],
   "source": [
    "xTy = x.T @ y\n",
    "xTy"
   ]
  },
  {
   "cell_type": "code",
   "execution_count": 11,
   "id": "f62cc1a4",
   "metadata": {},
   "outputs": [
    {
     "data": {
      "text/plain": [
       "array([[ 4.25      ],\n",
       "       [-0.18181818],\n",
       "       [ 2.63636364]])"
      ]
     },
     "execution_count": 11,
     "metadata": {},
     "output_type": "execute_result"
    }
   ],
   "source": [
    "k = np.linalg.solve(xTx, xTy)\n",
    "k"
   ]
  },
  {
   "cell_type": "markdown",
   "id": "ce91aa88",
   "metadata": {},
   "source": [
    "## Задание №3"
   ]
  },
  {
   "cell_type": "code",
   "execution_count": 6,
   "id": "31b3ebfd",
   "metadata": {},
   "outputs": [],
   "source": [
    "x_data = np.array([2, 6, 5])\n",
    "y_data = np.array([5, 3, 6])\n",
    "const_m = np.array([[1, 0, 0], [-3, 4, -1], [2, -4, 2]])"
   ]
  },
  {
   "cell_type": "code",
   "execution_count": 7,
   "id": "232ea0ae",
   "metadata": {},
   "outputs": [
    {
     "data": {
      "text/plain": [
       "array([  2,  13, -10])"
      ]
     },
     "execution_count": 7,
     "metadata": {},
     "output_type": "execute_result"
    }
   ],
   "source": [
    "x_data_interpolation = const_m @ x_data\n",
    "x_data_interpolation"
   ]
  },
  {
   "cell_type": "code",
   "execution_count": 8,
   "id": "a92d58b1",
   "metadata": {},
   "outputs": [
    {
     "data": {
      "text/plain": [
       "array([ 5, -9, 10])"
      ]
     },
     "execution_count": 8,
     "metadata": {},
     "output_type": "execute_result"
    }
   ],
   "source": [
    "y_data_interpolation = const_m @ y_data\n",
    "y_data_interpolation"
   ]
  },
  {
   "cell_type": "code",
   "execution_count": 9,
   "id": "ba12258f",
   "metadata": {},
   "outputs": [],
   "source": [
    "t = np.linspace(-10, 10, 1000)\n",
    "x = x_data_interpolation[0] + x_data_interpolation[1] * t + x_data_interpolation[2] * t ** 2\n",
    "y = y_data_interpolation[0] + y_data_interpolation[1] * t + y_data_interpolation[2] * t ** 2"
   ]
  },
  {
   "cell_type": "code",
   "execution_count": 10,
   "id": "ecaaaf8e",
   "metadata": {},
   "outputs": [
    {
     "data": {
      "image/png": "[encoded data removed]",
      "text/plain": [
       "<Figure size 640x480 with 1 Axes>"
      ]
     },
     "metadata": {},
     "output_type": "display_data"
    }
   ],
   "source": [
    "plt.scatter(x_data, y_data, s=50, ec=\"black\", zorder=3)\n",
    "plt.plot(x, y, \"r--\")\n",
    "plt.xlim((-1, 8))\n",
    "plt.ylim((2, 8))\n",
    "plt.annotate(\"A\", xy=(2, 5), xytext=(2, 4.7))\n",
    "plt.annotate(\"B\", xy=(6, 3), xytext=(6, 2.7))\n",
    "plt.annotate(\"C\", xy=(5, 6), xytext=(5.3, 6))\n",
    "plt.grid()"
   ]
  }
 ],
 "metadata": {
  "kernelspec": {
   "display_name": "Python 3",
   "language": "python",
   "name": "python3"
  },
  "language_info": {
   "codemirror_mode": {
    "name": "ipython",
    "version": 3
   },
   "file_extension": ".py",
   "mimetype": "text/x-python",
   "name": "python",
   "nbconvert_exporter": "python",
   "pygments_lexer": "ipython3",
   "version": "3.13.2"
  }
 },
 "nbformat": 4,
 "nbformat_minor": 5
}
