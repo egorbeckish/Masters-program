{
 "cells": [
  {
   "cell_type": "code",
   "execution_count": 1,
   "id": "dcf0f677",
   "metadata": {},
   "outputs": [],
   "source": [
    "import numpy as np\n",
    "import matplotlib.pyplot as plt\n",
    "import sympy as sp"
   ]
  },
  {
   "cell_type": "markdown",
   "id": "de04e427",
   "metadata": {},
   "source": [
    "## ВАРИАНТ 3"
   ]
  },
  {
   "cell_type": "markdown",
   "id": "6cd4b0b7",
   "metadata": {},
   "source": [
    "# Задание №2"
   ]
  },
  {
   "cell_type": "code",
   "execution_count": 2,
   "id": "9cf361ad",
   "metadata": {},
   "outputs": [
    {
     "data": {
      "text/plain": [
       "array([[-4, -2],\n",
       "       [ 2,  0],\n",
       "       [ 0,  1],\n",
       "       [ 2,  1]])"
      ]
     },
     "execution_count": 2,
     "metadata": {},
     "output_type": "execute_result"
    }
   ],
   "source": [
    "x = np.array([\n",
    "\t[-4, -2],\n",
    "\t[2, 0],\n",
    "\t[0, 1],\n",
    "\t[2, 1],\n",
    "])\n",
    "x"
   ]
  },
  {
   "cell_type": "code",
   "execution_count": 3,
   "id": "d2733152",
   "metadata": {},
   "outputs": [
    {
     "data": {
      "text/plain": [
       "array([[0],\n",
       "       [3],\n",
       "       [6],\n",
       "       [8]])"
      ]
     },
     "execution_count": 3,
     "metadata": {},
     "output_type": "execute_result"
    }
   ],
   "source": [
    "y = np.array([\n",
    "\t[0],\n",
    "\t[3],\n",
    "\t[6],\n",
    "\t[8]\n",
    "])\n",
    "y"
   ]
  },
  {
   "cell_type": "code",
   "execution_count": 4,
   "id": "6a51319e",
   "metadata": {},
   "outputs": [
    {
     "name": "stdout",
     "output_type": "stream",
     "text": [
      "k0 k1 k2 x1 x2\n"
     ]
    }
   ],
   "source": [
    "k0, k1, k2, x1, x2, y_ = sp.symbols(\"k0 k1 k2 x1 x2 y\")\n",
    "print(k0, k1, k2, x1, x2)"
   ]
  },
  {
   "cell_type": "code",
   "execution_count": 5,
   "id": "9f015d72",
   "metadata": {},
   "outputs": [
    {
     "data": {
      "text/latex": [
       "$\\displaystyle k_{0} + k_{1} x_{1} + k_{2} x_{2}$"
      ],
      "text/plain": [
       "k0 + k1*x1 + k2*x2"
      ]
     },
     "execution_count": 5,
     "metadata": {},
     "output_type": "execute_result"
    }
   ],
   "source": [
    "f = k0 + k1 * x1 + k2 * x2\n",
    "f"
   ]
  },
  {
   "cell_type": "code",
   "execution_count": 6,
   "id": "320767ed",
   "metadata": {},
   "outputs": [
    {
     "data": {
      "text/latex": [
       "$\\displaystyle \\left(- k_{0} - k_{1} x_{1} - k_{2} x_{2} + y\\right)^{2}$"
      ],
      "text/plain": [
       "(-k0 - k1*x1 - k2*x2 + y)**2"
      ]
     },
     "execution_count": 6,
     "metadata": {},
     "output_type": "execute_result"
    }
   ],
   "source": [
    "f_y = (y_ - f) ** 2\n",
    "f_y"
   ]
  },
  {
   "cell_type": "code",
   "execution_count": 7,
   "id": "223abcc6",
   "metadata": {},
   "outputs": [
    {
     "data": {
      "text/plain": [
       "[8*k0 - 34, 48*k1 + 20*k2 - 44, 20*k1 + 12*k2 - 28]"
      ]
     },
     "execution_count": 7,
     "metadata": {},
     "output_type": "execute_result"
    }
   ],
   "source": [
    "funcs = []\n",
    "for p in [k0, k1, k2]:\n",
    "\t\n",
    "\ttotal = 0\n",
    "\tfor i, data in enumerate(x):\n",
    "\t\tdata = np.append(data, y[i])\n",
    "\t\tf_y_curr = f_y.subs(dict(zip([x1, x2, y_], data)))\n",
    "\t\ttotal += f_y_curr.diff(p)\n",
    "\t\n",
    "\tfuncs += [total]\n",
    "\n",
    "funcs"
   ]
  },
  {
   "cell_type": "code",
   "execution_count": 8,
   "id": "c0e7a137",
   "metadata": {},
   "outputs": [
    {
     "data": {
      "text/plain": [
       "{'k0': 17/4, 'k1': -2/11, 'k2': 29/11}"
      ]
     },
     "execution_count": 8,
     "metadata": {},
     "output_type": "execute_result"
    }
   ],
   "source": [
    "total_solve = {str(k): v for k, v in sp.solve(funcs).items()}\n",
    "total_solve"
   ]
  },
  {
   "cell_type": "code",
   "execution_count": 9,
   "id": "b0a1f3c3",
   "metadata": {},
   "outputs": [],
   "source": [
    "def f(x, k0, k1, k2):\n",
    "\treturn k0 + k1 * x + k2 * x"
   ]
  },
  {
   "cell_type": "code",
   "execution_count": 10,
   "id": "542ae848",
   "metadata": {},
   "outputs": [],
   "source": [
    "x_data = np.linspace(-5, 3, 100)\n",
    "y_data = f(x_data, **total_solve,)"
   ]
  },
  {
   "cell_type": "code",
   "execution_count": 11,
   "id": "87101849",
   "metadata": {},
   "outputs": [
    {
     "data": {
      "image/png": "[encoded data removed]",
      "text/plain": [
       "<Figure size 640x480 with 1 Axes>"
      ]
     },
     "metadata": {},
     "output_type": "display_data"
    }
   ],
   "source": [
    "plt.scatter(x[:, 0], y, s=50, ec=\"black\", zorder=3)\n",
    "plt.scatter(x[:, 1], y, s=50, ec=\"black\", zorder=3)\n",
    "plt.plot(x_data, y_data, \"r\", lw=3)\n",
    "plt.xlim(-5, 3)\n",
    "plt.ylim(-1, 9)\n",
    "plt.grid()\n",
    "plt.show()"
   ]
  },
  {
   "cell_type": "markdown",
   "id": "8ccddf7e",
   "metadata": {},
   "source": [
    "$$f(x) = k_0 + k_1x_1 + k_2x_2\\space-> xk = y\\space-> x^Txk = x^Ty$$"
   ]
  },
  {
   "cell_type": "code",
   "execution_count": 12,
   "id": "5c05aff6",
   "metadata": {},
   "outputs": [
    {
     "data": {
      "text/plain": [
       "array([[ 1, -4, -2],\n",
       "       [ 1,  2,  0],\n",
       "       [ 1,  0,  1],\n",
       "       [ 1,  2,  1]])"
      ]
     },
     "execution_count": 12,
     "metadata": {},
     "output_type": "execute_result"
    }
   ],
   "source": [
    "x = np.array([\n",
    "\t[1, -4, -2],\n",
    "\t[1, 2, 0],\n",
    "\t[1, 0, 1],\n",
    "\t[1, 2, 1],\n",
    "])\n",
    "x"
   ]
  },
  {
   "cell_type": "code",
   "execution_count": 13,
   "id": "8275e83d",
   "metadata": {},
   "outputs": [
    {
     "data": {
      "text/plain": [
       "array([[ 4,  0,  0],\n",
       "       [ 0, 24, 10],\n",
       "       [ 0, 10,  6]])"
      ]
     },
     "execution_count": 13,
     "metadata": {},
     "output_type": "execute_result"
    }
   ],
   "source": [
    "xTx = x.T @ x\n",
    "xTx"
   ]
  },
  {
   "cell_type": "code",
   "execution_count": 14,
   "id": "93143d4c",
   "metadata": {},
   "outputs": [
    {
     "data": {
      "text/plain": [
       "array([[17],\n",
       "       [22],\n",
       "       [14]])"
      ]
     },
     "execution_count": 14,
     "metadata": {},
     "output_type": "execute_result"
    }
   ],
   "source": [
    "xTy = x.T @ y\n",
    "xTy"
   ]
  },
  {
   "cell_type": "code",
   "execution_count": 15,
   "id": "f62cc1a4",
   "metadata": {},
   "outputs": [
    {
     "data": {
      "text/plain": [
       "array([[ 4.25      ],\n",
       "       [-0.18181818],\n",
       "       [ 2.63636364]])"
      ]
     },
     "execution_count": 15,
     "metadata": {},
     "output_type": "execute_result"
    }
   ],
   "source": [
    "k = np.linalg.solve(xTx, xTy)\n",
    "k"
   ]
  },
  {
   "cell_type": "markdown",
   "id": "ce91aa88",
   "metadata": {},
   "source": [
    "## Задание №3"
   ]
  },
  {
   "cell_type": "code",
   "execution_count": 16,
   "id": "31b3ebfd",
   "metadata": {},
   "outputs": [],
   "source": [
    "x_data = np.array([2, 6, 5])\n",
    "y_data = np.array([5, 3, 6])\n",
    "const_m = np.array([[1, 0, 0], [-3, 4, -1], [2, -4, 2]])"
   ]
  },
  {
   "cell_type": "code",
   "execution_count": 17,
   "id": "232ea0ae",
   "metadata": {},
   "outputs": [
    {
     "data": {
      "text/plain": [
       "array([  2,  13, -10])"
      ]
     },
     "execution_count": 17,
     "metadata": {},
     "output_type": "execute_result"
    }
   ],
   "source": [
    "x_data_interpolation = const_m @ x_data\n",
    "x_data_interpolation"
   ]
  },
  {
   "cell_type": "code",
   "execution_count": 18,
   "id": "a92d58b1",
   "metadata": {},
   "outputs": [
    {
     "data": {
      "text/plain": [
       "array([ 5, -9, 10])"
      ]
     },
     "execution_count": 18,
     "metadata": {},
     "output_type": "execute_result"
    }
   ],
   "source": [
    "y_data_interpolation = const_m @ y_data\n",
    "y_data_interpolation"
   ]
  },
  {
   "cell_type": "code",
   "execution_count": 19,
   "id": "ba12258f",
   "metadata": {},
   "outputs": [],
   "source": [
    "t = np.linspace(-10, 10, 1000)\n",
    "x = x_data_interpolation[0] + x_data_interpolation[1] * t + x_data_interpolation[2] * t ** 2\n",
    "y = y_data_interpolation[0] + y_data_interpolation[1] * t + y_data_interpolation[2] * t ** 2"
   ]
  },
  {
   "cell_type": "code",
   "execution_count": 20,
   "id": "ecaaaf8e",
   "metadata": {},
   "outputs": [
    {
     "data": {
      "image/png": "[encoded data removed]",
      "text/plain": [
       "<Figure size 640x480 with 1 Axes>"
      ]
     },
     "metadata": {},
     "output_type": "display_data"
    }
   ],
   "source": [
    "plt.scatter(x_data, y_data, s=50, ec=\"black\", zorder=3)\n",
    "plt.plot(x, y, \"r--\")\n",
    "plt.xlim((-1, 8))\n",
    "plt.ylim((2, 8))\n",
    "plt.annotate(\"A\", xy=(2, 5), xytext=(2, 4.7))\n",
    "plt.annotate(\"B\", xy=(6, 3), xytext=(6, 2.7))\n",
    "plt.annotate(\"C\", xy=(5, 6), xytext=(5.3, 6))\n",
    "plt.grid()"
   ]
  }
 ],
 "metadata": {
  "kernelspec": {
   "display_name": "Python 3",
   "language": "python",
   "name": "python3"
  },
  "language_info": {
   "codemirror_mode": {
    "name": "ipython",
    "version": 3
   },
   "file_extension": ".py",
   "mimetype": "text/x-python",
   "name": "python",
   "nbconvert_exporter": "python",
   "pygments_lexer": "ipython3",
   "version": "3.13.2"
  }
 },
 "nbformat": 4,
 "nbformat_minor": 5
}
